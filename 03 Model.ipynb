{
 "cells": [
  {
   "cell_type": "code",
   "execution_count": 28,
   "metadata": {},
   "outputs": [],
   "source": [
    "import pandas as pd\n",
    "import numpy as np\n",
    "\n",
    "from sklearn.pipeline import Pipeline, make_pipeline, FeatureUnion\n",
    "from sklearn.feature_extraction.text import CountVectorizer\n",
    "from sklearn.base import BaseEstimator, ClassifierMixin\n",
    "from sklearn.linear_model import LogisticRegression\n",
    "from sklearn.model_selection import cross_val_score,train_test_split,GridSearchCV\n",
    "\n",
    "\n",
    "from sklearn.naive_bayes import MultinomialNB\n",
    "from sklearn.ensemble import RandomForestClassifier,BaggingClassifier,ExtraTreesClassifier\n",
    "from sklearn.tree import DecisionTreeClassifier\n",
    "\n",
    "import numpy as np\n",
    "import matplotlib.pyplot as plt"
   ]
  },
  {
   "cell_type": "code",
   "execution_count": 29,
   "metadata": {},
   "outputs": [],
   "source": [
    "df = pd.read_csv('./data/final_df.csv')"
   ]
  },
  {
   "cell_type": "code",
   "execution_count": 30,
   "metadata": {},
   "outputs": [
    {
     "data": {
      "text/plain": [
       "(1848, 14)"
      ]
     },
     "metadata": {},
     "output_type": "display_data"
    },
    {
     "data": {
      "text/plain": [
       "0"
      ]
     },
     "metadata": {},
     "output_type": "display_data"
    }
   ],
   "source": [
    "# Cheking data frame shape\n",
    "display(df.shape)\n",
    "#Checking if there is a null value\n",
    "display(df.isnull().sum().sum())\n",
    "#Checking column names\n",
    "#df.columns"
   ]
  },
  {
   "cell_type": "markdown",
   "metadata": {},
   "source": [
    "## Base Line accuracy"
   ]
  },
  {
   "cell_type": "code",
   "execution_count": 31,
   "metadata": {},
   "outputs": [
    {
     "data": {
      "text/plain": [
       "1    0.509199\n",
       "Name: label, dtype: float64"
      ]
     },
     "execution_count": 31,
     "metadata": {},
     "output_type": "execute_result"
    }
   ],
   "source": [
    "df['label'].value_counts(normalize=1)[0:1]  # value and pct"
   ]
  },
  {
   "cell_type": "markdown",
   "metadata": {},
   "source": [
    "## Features:"
   ]
  },
  {
   "cell_type": "code",
   "execution_count": 32,
   "metadata": {},
   "outputs": [],
   "source": [
    "feat_title = ['title']\n",
    "feat_clean_title = ['clean_title'] \n",
    "feat_tit_lemma = ['clean_title_lemmat'] ## Highest Scores\n",
    "feat_tit_landcast = ['clean_title_lancast'] \n",
    "feat_tit_port = ['clean_title_port'] \n",
    "features = feat_tit_lemma "
   ]
  },
  {
   "cell_type": "code",
   "execution_count": 58,
   "metadata": {},
   "outputs": [
    {
     "name": "stdout",
     "output_type": "stream",
     "text": [
      "<class 'pandas.core.frame.DataFrame'>\n",
      "Int64Index: 1848 entries, 0 to 1849\n",
      "Data columns (total 14 columns):\n",
      "title                     1848 non-null object\n",
      "selftext                  1848 non-null object\n",
      "ups                       1848 non-null int64\n",
      "num_comments              1848 non-null int64\n",
      "author                    1848 non-null object\n",
      "label                     1848 non-null int64\n",
      "clean_title               1848 non-null object\n",
      "clean_selftext            1848 non-null object\n",
      "clean_title_lemmat        1848 non-null object\n",
      "clean_title_lancast       1848 non-null object\n",
      "clean_title_port          1848 non-null object\n",
      "clean_selftext_lemmat     1848 non-null object\n",
      "clean_selftext_lancast    1848 non-null object\n",
      "clean_selftext_port       1848 non-null object\n",
      "dtypes: int64(3), object(11)\n",
      "memory usage: 296.6+ KB\n"
     ]
    }
   ],
   "source": [
    "df.info()"
   ]
  },
  {
   "cell_type": "markdown",
   "metadata": {},
   "source": [
    "## Split test:"
   ]
  },
  {
   "cell_type": "code",
   "execution_count": 33,
   "metadata": {},
   "outputs": [],
   "source": [
    "#Preparing data\n",
    "X = df[features].iloc[:,0]\n",
    "y = df['label']\n",
    "X_train, X_test, y_train, y_test = train_test_split(X,y,stratify=y,random_state=42)"
   ]
  },
  {
   "cell_type": "markdown",
   "metadata": {},
   "source": [
    "### Testing wich steamer / lemmatizer give best resoults in multinomialNB "
   ]
  },
  {
   "cell_type": "code",
   "execution_count": 34,
   "metadata": {},
   "outputs": [],
   "source": [
    "cv = CountVectorizer()\n",
    "model_mult_nb = MultinomialNB()\n",
    "alphas = np.linspace(0,2,20)[1:]\n",
    "\n",
    "pipe = Pipeline([('cv',cv),\n",
    "                ('model',model_mult_nb)\n",
    "])"
   ]
  },
  {
   "cell_type": "code",
   "execution_count": 35,
   "metadata": {
    "scrolled": true
   },
   "outputs": [
    {
     "name": "stdout",
     "output_type": "stream",
     "text": [
      "GridSearchCV(cv=5, error_score='raise-deprecating',\n",
      "       estimator=Pipeline(memory=None,\n",
      "     steps=[('cv', CountVectorizer(analyzer='word', binary=False, decode_error='strict',\n",
      "        dtype=<class 'numpy.int64'>, encoding='utf-8', input='content',\n",
      "        lowercase=True, max_df=1.0, max_features=None, min_df=1,\n",
      "        ngram_range=(1, 1), preprocessor=None, stop_words=None,\n",
      "        strip_accents=None, token_pattern='(?u)\\\\b\\\\w\\\\w+\\\\b',\n",
      "        tokenizer=None, vocabulary=None)), ('model', MultinomialNB(alpha=1.0, class_prior=None, fit_prior=True))]),\n",
      "       fit_params=None, iid='warn', n_jobs=None,\n",
      "       param_grid={'cv__stop_words': [['honda', 'toyota']]},\n",
      "       pre_dispatch='2*n_jobs', refit=True, return_train_score='warn',\n",
      "       scoring=None, verbose=0)\n",
      "{'cv__stop_words': ['honda', 'toyota']}\n",
      "Train Score:  0.8066\n",
      "Train Score:  0.7771\n"
     ]
    }
   ],
   "source": [
    "params = {'cv__stop_words': [['honda','toyota',]]#,'civic','accord','camry','corolla','highlander']],\n",
    "#           'cv__max_features':[4000,5000,6000,None],\n",
    "#          'cv__ngram_range': [(1,1)],\n",
    "#          'cv__min_df': [1,5,10,15],\n",
    "#          'cv__max_df':[0.10,0.15,0.2,0.3],\n",
    "#           'model__alpha' : alphas\n",
    "    }\n",
    "gs = GridSearchCV(pipe, param_grid=params,cv=5)\n",
    "print(gs.fit(X_train,y_train))\n",
    "print(gs.best_params_)\n",
    "print(\"Train Score: \", round(gs.best_score_,4))\n",
    "print(\"Train Score: \", round(gs.score(X_test,y_test),4))\n"
   ]
  },
  {
   "cell_type": "markdown",
   "metadata": {},
   "source": [
    "* LancasterStemmer yielded highest score in a multinomialNB model, using only title as feature."
   ]
  },
  {
   "cell_type": "markdown",
   "metadata": {},
   "source": [
    "## Vectorizing and Appending other features:"
   ]
  },
  {
   "cell_type": "code",
   "execution_count": 36,
   "metadata": {},
   "outputs": [
    {
     "name": "stdout",
     "output_type": "stream",
     "text": [
      "Dic Size: 2681\n"
     ]
    }
   ],
   "source": [
    "vectorizer = CountVectorizer(stop_words=['honda','toyota'])\n",
    "X_train_title_vec = vectorizer.fit_transform(X_train)\n",
    "X_test_title_vec = vectorizer.transform(X_test)\n",
    "\n",
    "print(\"Dic Size:\", len(vectorizer.get_feature_names()))"
   ]
  },
  {
   "cell_type": "code",
   "execution_count": 37,
   "metadata": {},
   "outputs": [],
   "source": [
    "new_train_df = pd.DataFrame()\n",
    "new_test_df = pd.DataFrame()\n",
    "\n",
    "for i, col in enumerate(vectorizer.get_feature_names()):\n",
    "    new_train_df[col] = pd.SparseSeries(X_train_title_vec[:, i].toarray().ravel(), fill_value=0)\n",
    "    \n",
    "for i, col in enumerate(vectorizer.get_feature_names()):\n",
    "    new_test_df[col] = pd.SparseSeries(X_test_title_vec[:, i].toarray().ravel(), fill_value=0)"
   ]
  },
  {
   "cell_type": "markdown",
   "metadata": {},
   "source": [
    "#### Adding features:"
   ]
  },
  {
   "cell_type": "code",
   "execution_count": 38,
   "metadata": {},
   "outputs": [],
   "source": [
    "## Adding to Train data frame\n",
    "ups_train_list = []\n",
    "comment_train_list = []\n",
    "for row_numb in X_train.index:\n",
    "    ups_train_list.append(df.loc[row_numb,['ups']][0])\n",
    "    comment_train_list.append(df.loc[row_numb,['num_comments']][0])\n",
    "\n",
    "new_train_df['ups'] = ups_train_list\n",
    "new_train_df['num_comments'] = comment_train_list\n",
    "\n",
    "## Adding to Test data frame\n",
    "ups_test_list = []\n",
    "comment_test_list = []\n",
    "for row_numb in X_test.index:\n",
    "    ups_test_list.append(df.loc[row_numb,['ups']][0])\n",
    "    comment_test_list.append(df.loc[row_numb,['num_comments']][0])\n",
    "new_test_df['ups'] = ups_test_list\n",
    "new_test_df['num_comments'] = comment_test_list\n"
   ]
  },
  {
   "cell_type": "markdown",
   "metadata": {},
   "source": [
    "### Running the same model with new features:"
   ]
  },
  {
   "cell_type": "code",
   "execution_count": 39,
   "metadata": {},
   "outputs": [
    {
     "name": "stdout",
     "output_type": "stream",
     "text": [
      "Train score 0.8311688311688312\n",
      "Test score 0.6991341991341992\n"
     ]
    }
   ],
   "source": [
    "# for alpha in np.linspace(0,2,20)[1:]:\n",
    "model_mult_nb = MultinomialNB(alpha=1.0, class_prior=None, fit_prior=True)\n",
    "model_mult_nb.fit(new_train_df,y_train)\n",
    "print(\"Train score\", model_mult_nb.score(new_train_df,y_train))\n",
    "print(\"Test score\", model_mult_nb.score(new_test_df,y_test))"
   ]
  },
  {
   "cell_type": "markdown",
   "metadata": {},
   "source": [
    "### Results:\n",
    "* New features did not increase the model performance."
   ]
  },
  {
   "cell_type": "markdown",
   "metadata": {},
   "source": [
    "### Multinomial Naive Bayes"
   ]
  },
  {
   "cell_type": "markdown",
   "metadata": {},
   "source": [
    "# Comparing different models using title feature "
   ]
  },
  {
   "cell_type": "code",
   "execution_count": 40,
   "metadata": {
    "scrolled": true
   },
   "outputs": [
    {
     "name": "stdout",
     "output_type": "stream",
     "text": [
      "GridSearchCV(cv=5, error_score='raise-deprecating',\n",
      "       estimator=Pipeline(memory=None,\n",
      "     steps=[('cv', CountVectorizer(analyzer='word', binary=False, decode_error='strict',\n",
      "        dtype=<class 'numpy.int64'>, encoding='utf-8', input='content',\n",
      "        lowercase=True, max_df=1.0, max_features=None, min_df=1,\n",
      "        ngram_range=(1, 1), preprocessor=None, stop_words=None,\n",
      "        strip_accents=None, token_pattern='(?u)\\\\b\\\\w\\\\w+\\\\b',\n",
      "        tokenizer=None, vocabulary=None)), ('model', MultinomialNB(alpha=1.0, class_prior=None, fit_prior=True))]),\n",
      "       fit_params=None, iid='warn', n_jobs=None,\n",
      "       param_grid={'cv__stop_words': [['honda', 'toyota']]},\n",
      "       pre_dispatch='2*n_jobs', refit=True, return_train_score='warn',\n",
      "       scoring=None, verbose=0)\n",
      "{'cv__stop_words': ['honda', 'toyota']}\n",
      "Train Score:  0.8066\n",
      "Train Score:  0.7771\n"
     ]
    }
   ],
   "source": [
    "cv = CountVectorizer()\n",
    "model_mult_nb = MultinomialNB()\n",
    "params = {'cv__stop_words': [['honda','toyota']]}\n",
    "gs = GridSearchCV(pipe, param_grid=params,cv=5)\n",
    "print(gs.fit(X_train,y_train))\n",
    "print(gs.best_params_)\n",
    "print(\"Train Score: \", round(gs.best_score_,4))\n",
    "print(\"Train Score: \", round(gs.score(X_test,y_test),4))\n"
   ]
  },
  {
   "cell_type": "markdown",
   "metadata": {},
   "source": [
    "### Random Forest ####"
   ]
  },
  {
   "cell_type": "code",
   "execution_count": 41,
   "metadata": {
    "scrolled": true
   },
   "outputs": [
    {
     "name": "stderr",
     "output_type": "stream",
     "text": [
      "C:\\Users\\berku\\Anaconda3\\lib\\site-packages\\sklearn\\ensemble\\forest.py:246: FutureWarning: The default value of n_estimators will change from 10 in version 0.20 to 100 in 0.22.\n",
      "  \"10 in version 0.20 to 100 in 0.22.\", FutureWarning)\n"
     ]
    },
    {
     "name": "stdout",
     "output_type": "stream",
     "text": [
      "Cross Val Score:  0.7582681868945278\n",
      "Train Score:  0.9899\n",
      "Train Score:  0.7706\n"
     ]
    }
   ],
   "source": [
    "vectorizer = CountVectorizer(stop_words=['honda','toyota'])\n",
    "X_train_vec = vectorizer.fit_transform(X_train)\n",
    "X_test_vec = vectorizer.transform(X_test)\n",
    "rf = RandomForestClassifier(random_state=42)\n",
    "rf.fit(X_train_vec,y_train)\n",
    "print(\"Cross Val Score: \",cross_val_score(rf,X_train_vec,y_train,cv=5).mean())\n",
    "print(\"Train Score: \", round(rf.score(X_train_vec,y_train),4))\n",
    "print(\"Train Score: \", round(rf.score(X_test_vec,y_test),4))\n"
   ]
  },
  {
   "cell_type": "markdown",
   "metadata": {},
   "source": [
    "### Extra Trees #####"
   ]
  },
  {
   "cell_type": "code",
   "execution_count": 42,
   "metadata": {
    "scrolled": true
   },
   "outputs": [
    {
     "name": "stderr",
     "output_type": "stream",
     "text": [
      "C:\\Users\\berku\\Anaconda3\\lib\\site-packages\\sklearn\\ensemble\\forest.py:246: FutureWarning: The default value of n_estimators will change from 10 in version 0.20 to 100 in 0.22.\n",
      "  \"10 in version 0.20 to 100 in 0.22.\", FutureWarning)\n"
     ]
    },
    {
     "name": "stdout",
     "output_type": "stream",
     "text": [
      "Cross Val Score:  0.7582681868945278\n",
      "Train Score:  0.9993\n",
      "Test Score:  0.7879\n"
     ]
    }
   ],
   "source": [
    "vectorizer = CountVectorizer(stop_words=['honda','toyota'])\n",
    "X_train_vec = vectorizer.fit_transform(X_train)\n",
    "X_test_vec = vectorizer.transform(X_test)\n",
    "et = ExtraTreesClassifier(random_state=42)\n",
    "et.fit(X_train_vec,y_train)\n",
    "print(\"Cross Val Score: \",cross_val_score(rf,X_train_vec,y_train,cv=5).mean())\n",
    "print(\"Train Score: \", round(et.score(X_train_vec,y_train),4))\n",
    "print(\"Test Score: \", round(et.score(X_test_vec,y_test),4))"
   ]
  },
  {
   "cell_type": "markdown",
   "metadata": {},
   "source": [
    "### Baggin Classifier ####"
   ]
  },
  {
   "cell_type": "code",
   "execution_count": 43,
   "metadata": {},
   "outputs": [
    {
     "name": "stdout",
     "output_type": "stream",
     "text": [
      "Cross Val Score:  0.7395138041191596\n",
      "Train Score:  0.9523809523809523\n",
      "Test Score:  0.7532467532467533\n"
     ]
    }
   ],
   "source": [
    "vectorizer = CountVectorizer(stop_words=['honda','toyota'])\n",
    "X_train_vec = vectorizer.fit_transform(X_train)\n",
    "X_test_vec = vectorizer.transform(X_test)\n",
    "\n",
    "bagged = BaggingClassifier(base_estimator=DecisionTreeClassifier(random_state=42)\n",
    "                            ,max_samples=0.5, max_features=0.5)\n",
    "bagged.fit(X_train_vec,y_train)\n",
    "print(\"Cross Val Score: \",cross_val_score(bagged,X_train_vec,y_train,cv=5).mean())\n",
    "print(\"Train Score: \",bagged.score(X_train_vec,y_train))\n",
    "print(\"Test Score: \",bagged.score(X_test_vec,y_test))\n",
    "                             "
   ]
  },
  {
   "cell_type": "markdown",
   "metadata": {},
   "source": [
    "## Tuning Random Forest"
   ]
  },
  {
   "cell_type": "code",
   "execution_count": 55,
   "metadata": {},
   "outputs": [],
   "source": [
    "vectorizer = CountVectorizer(stop_words=['honda','toyota'])\n",
    "X_train_vec = vectorizer.fit_transform(X_train)\n",
    "X_test_vec = vectorizer.transform(X_test)\n",
    "model__max_features = ['auto',0.75,0.8,0.4]\n",
    "model__max_depth = [65,66,67,68,69,70]#,200]\n",
    "model__criterion = ['gini', 'entropy']\n",
    "sample_leaf_options = [1,5,10,50,100,200,500]\n",
    "results = []\n",
    "for crit in model__criterion:\n",
    "    for feat in model__max_features:\n",
    "        for depth in model__max_depth:\n",
    "#             print (crit, feat,depth) ## min_samples_leaf=model_min_samples_leaf,n_estimators = [20] \n",
    "#             et = ExtraTreesClassifier(random_st ate=42, criterion=crit,max_depth=depth,max_features=feat)\n",
    "            rf = RandomForestClassifier(n_estimators = 10,random_state=42, criterion=crit,max_depth=depth,max_features=feat\n",
    "                                       ,min_samples_leaf = 1)\n",
    "            rf.fit(X_train_vec,y_train)\n",
    "            cv_score = round(cross_val_score(rf,X_train_vec,y_train,cv=5).mean(),5)\n",
    "            train_score = round(rf.score(X_train_vec,y_train),5)\n",
    "            test_score = round(rf.score(X_test_vec,y_test),5)            \n",
    "            results.append([crit,feat,depth,cv_score,train_score,test_score])"
   ]
  },
  {
   "cell_type": "code",
   "execution_count": 56,
   "metadata": {
    "scrolled": true
   },
   "outputs": [
    {
     "data": {
      "text/plain": [
       "[['gini', 'auto', 65, 0.75684, 0.91198, 0.75108],\n",
       " ['gini', 'auto', 66, 0.75755, 0.91198, 0.7619],\n",
       " ['gini', 'auto', 67, 0.75396, 0.91486, 0.7619],\n",
       " ['gini', 'auto', 68, 0.75685, 0.91991, 0.75541],\n",
       " ['gini', 'auto', 69, 0.75972, 0.92424, 0.76407],\n",
       " ['gini', 'auto', 70, 0.76404, 0.92136, 0.74892],\n",
       " ['gini', 0.75, 65, 0.75396, 0.8925, 0.75974],\n",
       " ['gini', 0.75, 66, 0.75612, 0.89322, 0.7619],\n",
       " ['gini', 0.75, 67, 0.75396, 0.89683, 0.7619],\n",
       " ['gini', 0.75, 68, 0.75973, 0.89827, 0.7619],\n",
       " ['gini', 0.75, 69, 0.75756, 0.90115, 0.75758],\n",
       " ['gini', 0.75, 70, 0.75684, 0.90404, 0.75974],\n",
       " ['gini', 0.8, 65, 0.75251, 0.90115, 0.75758],\n",
       " ['gini', 0.8, 66, 0.74962, 0.9062, 0.75325],\n",
       " ['gini', 0.8, 67, 0.75468, 0.90765, 0.75325],\n",
       " ['gini', 0.8, 68, 0.7554, 0.90765, 0.75541],\n",
       " ['gini', 0.8, 69, 0.75179, 0.90476, 0.75325],\n",
       " ['gini', 0.8, 70, 0.75251, 0.90476, 0.75974],\n",
       " ['gini', 0.4, 65, 0.75394, 0.8961, 0.75758],\n",
       " ['gini', 0.4, 66, 0.75394, 0.89683, 0.75758],\n",
       " ['gini', 0.4, 67, 0.75611, 0.89827, 0.75758],\n",
       " ['gini', 0.4, 68, 0.75251, 0.90043, 0.75758],\n",
       " ['gini', 0.4, 69, 0.75684, 0.90043, 0.75758],\n",
       " ['gini', 0.4, 70, 0.75684, 0.90404, 0.75758],\n",
       " ['entropy', 'auto', 65, 0.76479, 0.8961, 0.76407],\n",
       " ['entropy', 'auto', 66, 0.76479, 0.8925, 0.77056],\n",
       " ['entropy', 'auto', 67, 0.7648, 0.89322, 0.76407],\n",
       " ['entropy', 'auto', 68, 0.76405, 0.88961, 0.7684],\n",
       " ['entropy', 'auto', 69, 0.76696, 0.88961, 0.76623],\n",
       " ['entropy', 'auto', 70, 0.76912, 0.89538, 0.77056],\n",
       " ['entropy', 0.75, 65, 0.76548, 0.89827, 0.7316],\n",
       " ['entropy', 0.75, 66, 0.76548, 0.90115, 0.73593],\n",
       " ['entropy', 0.75, 67, 0.76332, 0.89971, 0.7381],\n",
       " ['entropy', 0.75, 68, 0.76405, 0.90188, 0.7381],\n",
       " ['entropy', 0.75, 69, 0.76477, 0.90404, 0.7381],\n",
       " ['entropy', 0.75, 70, 0.76404, 0.9062, 0.74242],\n",
       " ['entropy', 0.8, 65, 0.75826, 0.90043, 0.7381],\n",
       " ['entropy', 0.8, 66, 0.76331, 0.89899, 0.7381],\n",
       " ['entropy', 0.8, 67, 0.76331, 0.90188, 0.74242],\n",
       " ['entropy', 0.8, 68, 0.75898, 0.90404, 0.74026],\n",
       " ['entropy', 0.8, 69, 0.76259, 0.90548, 0.74675],\n",
       " ['entropy', 0.8, 70, 0.7662, 0.90693, 0.75108],\n",
       " ['entropy', 0.4, 65, 0.76116, 0.90765, 0.74675],\n",
       " ['entropy', 0.4, 66, 0.7626, 0.91198, 0.74675],\n",
       " ['entropy', 0.4, 67, 0.76043, 0.91126, 0.74892],\n",
       " ['entropy', 0.4, 68, 0.76043, 0.90765, 0.74892],\n",
       " ['entropy', 0.4, 69, 0.75899, 0.90981, 0.75108],\n",
       " ['entropy', 0.4, 70, 0.75971, 0.9127, 0.74675]]"
      ]
     },
     "execution_count": 56,
     "metadata": {},
     "output_type": "execute_result"
    }
   ],
   "source": [
    "results\n",
    "# et -> ['gini', 'auto', 75, 1.0, 0.95166, 0.81169],"
   ]
  },
  {
   "cell_type": "markdown",
   "metadata": {},
   "source": [
    "### Runing Random forest with optimal HyperParameters"
   ]
  },
  {
   "cell_type": "code",
   "execution_count": 57,
   "metadata": {},
   "outputs": [
    {
     "name": "stderr",
     "output_type": "stream",
     "text": [
      "C:\\Users\\berku\\Anaconda3\\lib\\site-packages\\sklearn\\ensemble\\forest.py:246: FutureWarning: The default value of n_estimators will change from 10 in version 0.20 to 100 in 0.22.\n",
      "  \"10 in version 0.20 to 100 in 0.22.\", FutureWarning)\n"
     ]
    },
    {
     "name": "stdout",
     "output_type": "stream",
     "text": [
      "Cross Val Score:  0.7691192894060203\n",
      "Train Score:  0.8954\n",
      "Test Score:  0.7706\n"
     ]
    }
   ],
   "source": [
    "# 'entropy', 'auto', None, 1.0, 0.99856, 0.73593\n",
    "vectorizer = CountVectorizer(stop_words=['honda','toyota'])\n",
    "X_train_vec = vectorizer.fit_transform(X_train)\n",
    "X_test_vec = vectorizer.transform(X_test)\n",
    "rf = RandomForestClassifier(random_state=42,criterion='entropy',max_features='auto',max_depth=70)\n",
    "rf.fit(X_train_vec,y_train)\n",
    "print(\"Cross Val Score: \",cross_val_score(rf,X_train_vec,y_train,cv=5).mean())\n",
    "print(\"Train Score: \", round(rf.score(X_train_vec,y_train),4))\n",
    "print(\"Test Score: \", round(rf.score(X_test_vec,y_test),4))"
   ]
  },
  {
   "cell_type": "markdown",
   "metadata": {},
   "source": [
    "### Printing Random Forest top features:"
   ]
  },
  {
   "cell_type": "code",
   "execution_count": 47,
   "metadata": {},
   "outputs": [
    {
     "name": "stdout",
     "output_type": "stream",
     "text": [
      "Feature ranking:\n",
      "1. feature 511 (0.084429) camry\n",
      "2. feature 575 (0.066664) civic\n",
      "3. feature 671 (0.060441) corolla\n",
      "4. feature 234 (0.050761) accord\n",
      "5. feature 1214 (0.032555) highlander\n",
      "6. feature 2493 (0.019741) type\n",
      "7. feature 2162 (0.016490) si\n",
      "8. feature 1934 (0.016041) rav4\n",
      "9. feature 165 (0.013356) 4runner\n",
      "10. feature 2322 (0.013130) supra\n",
      "11. feature 539 (0.009167) celica\n",
      "12. feature 936 (0.008807) ex\n",
      "13. feature 2462 (0.008047) trd\n",
      "14. feature 1499 (0.007810) lx\n",
      "15. feature 711 (0.007406) crv\n",
      "16. feature 1869 (0.007249) prius\n",
      "17. feature 1628 (0.006847) mr2\n",
      "18. feature 712 (0.006792) crx\n",
      "19. feature 1310 (0.006462) insight\n",
      "20. feature 707 (0.006066) cruiser\n"
     ]
    }
   ],
   "source": [
    "## et = the ExtraTreesClassifier that i used to fit my model\n",
    "importances = rf.feature_importances_\n",
    "std = np.std([tree.feature_importances_ for tree in rf.estimators_],\n",
    "             axis=0)\n",
    "indices = np.argsort(importances)[::-1]\n",
    "\n",
    "# Print the feature ranking\n",
    "print(\"Feature ranking:\")\n",
    "\n",
    "for f in range(0,20): # X_train_vec.shape[1]\n",
    "    print(\"%d. feature %d (%f)\" % (f + 1, indices[f], importances[indices[f]]),new_train_df.iloc[:,indices[f]].name)\n"
   ]
  },
  {
   "cell_type": "code",
   "execution_count": 50,
   "metadata": {},
   "outputs": [
    {
     "data": {
      "image/png": "[encoded data removed]",
      "text/plain": [
       "<Figure size 432x288 with 1 Axes>"
      ]
     },
     "metadata": {
      "needs_background": "light"
     },
     "output_type": "display_data"
    },
    {
     "data": {
      "text/plain": [
       "<Figure size 936x936 with 0 Axes>"
      ]
     },
     "metadata": {},
     "output_type": "display_data"
    }
   ],
   "source": [
    "# Make dataset\n",
    "number_features_print = 10\n",
    "height = [importances[indices[i]] for i in range(0,number_features_print)]\n",
    "# bars = ['toyot', 'hond', 'civ', 'camry', 'accord','coroll','rav4','highland']\n",
    "bars = [new_train_df.iloc[:,indices[x]].name for x in range(0,number_features_print)]\n",
    "\n",
    "\n",
    "height.reverse()\n",
    "bars.reverse()\n",
    "\n",
    "y_pos = np.arange(len(bars))\n",
    " \n",
    "# Create horizontal bars\n",
    "plt.barh(y_pos, height)\n",
    " \n",
    "# Create names on the y-axis\n",
    "plt.yticks(y_pos, bars)\n",
    "plt.title('Top predictors',fontsize=19)\n",
    "plt.yticks(fontsize=13)\n",
    "plt.xticks(fontsize=13)\n",
    "plt.ylabel('Word', fontsize = 16)\n",
    "plt.xlabel('Random Forest Coeficient', fontsize = 16)\n",
    "plt.figure(figsize=(13, 13))\n",
    "\n",
    "# Show graphic\n",
    "plt.show();"
   ]
  },
  {
   "cell_type": "markdown",
   "metadata": {},
   "source": [
    "## Results:\n",
    "* Car names are among most important predictors in the random forest model.\n",
    "\n",
    "* The model is overfit with a 95% accuracy in training data.\n",
    "* The test score was similar to cross validation score (aprox. 76%). The model is espected to have 76% accuracy in new data. \n",
    "* Hiper parameter tuning had a small improvement in scores compared to the default options. A 0.01 improvement in cross validation and test was acheaved changing max_depth to 70 and criterion to enthropy."
   ]
  },
  {
   "cell_type": "code",
   "execution_count": null,
   "metadata": {},
   "outputs": [],
   "source": []
  }
 ],
 "metadata": {
  "kernelspec": {
   "display_name": "Python 3",
   "language": "python",
   "name": "python3"
  },
  "language_info": {
   "codemirror_mode": {
    "name": "ipython",
    "version": 3
   },
   "file_extension": ".py",
   "mimetype": "text/x-python",
   "name": "python",
   "nbconvert_exporter": "python",
   "pygments_lexer": "ipython3",
   "version": "3.7.1"
  }
 },
 "nbformat": 4,
 "nbformat_minor": 2
}
