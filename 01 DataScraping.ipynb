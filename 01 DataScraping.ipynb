{
 "cells": [
  {
   "cell_type": "code",
   "execution_count": 2,
   "metadata": {},
   "outputs": [],
   "source": [
    "import requests\n",
    "import time\n",
    "import pandas as pd\n",
    "import ast # to transform str to dic"
   ]
  },
  {
   "cell_type": "markdown",
   "metadata": {},
   "source": [
    "## Testing Connection:"
   ]
  },
  {
   "cell_type": "code",
   "execution_count": 3,
   "metadata": {},
   "outputs": [
    {
     "name": "stdout",
     "output_type": "stream",
     "text": [
      "['data', 'kind']\n"
     ]
    }
   ],
   "source": [
    "url = 'https://www.reddit.com/hot.json'\n",
    "header = {'User-agent': 'Bleep blorp bot 0.1'}\n",
    "res = requests.get(url,headers=header)\n",
    "the_json = res.json()\n",
    "print(sorted(the_json.keys()))"
   ]
  },
  {
   "cell_type": "code",
   "execution_count": 4,
   "metadata": {},
   "outputs": [
    {
     "data": {
      "text/plain": [
       "25"
      ]
     },
     "execution_count": 4,
     "metadata": {},
     "output_type": "execute_result"
    }
   ],
   "source": [
    "the_json['data'].keys()\n",
    "len(the_json['data']['children'])"
   ]
  },
  {
   "cell_type": "markdown",
   "metadata": {},
   "source": [
    "## Functions for data scraping and transforming into Data Frame:"
   ]
  },
  {
   "cell_type": "code",
   "execution_count": 5,
   "metadata": {},
   "outputs": [],
   "source": [
    "def get_posts(url,interations,header,sleep):\n",
    "    posts = []\n",
    "    after = None\n",
    "    for i in range(interations):\n",
    "#         print(i)\n",
    "        if after==None:\n",
    "            params = {}\n",
    "        else:\n",
    "            params = {'after' : after}\n",
    "        res = requests.get(url,params=params,headers=header)\n",
    "        if res.status_code == 200:\n",
    "            the_json = res.json()\n",
    "            posts.extend(the_json['data']['children'])\n",
    "            after = the_json['data']['after']\n",
    "        else:\n",
    "            print(res.status_code)\n",
    "            break\n",
    "        time.sleep(sleep)\n",
    "    return posts"
   ]
  },
  {
   "cell_type": "code",
   "execution_count": 6,
   "metadata": {},
   "outputs": [],
   "source": [
    "def create_cols(dataframe):\n",
    "    dataframe['subreddit'] = dataframe['data'].map(lambda x: x['subreddit'])\n",
    "    dataframe['title'] = dataframe['data'].map(lambda x: x['title'])\n",
    "    dataframe['name'] = dataframe['data'].map(lambda x: x['name'])\n",
    "    dataframe['selftext'] = dataframe['data'].map(lambda x: x['selftext'])\n",
    "    dataframe['domain'] = dataframe['data'].map(lambda x: x['domain'])\n",
    "    return dataframe"
   ]
  },
  {
   "cell_type": "markdown",
   "metadata": {},
   "source": [
    "## Grabing Data:"
   ]
  },
  {
   "cell_type": "code",
   "execution_count": 10,
   "metadata": {},
   "outputs": [],
   "source": [
    "header = {'User-agent': 'Bleep blorp bot 0.1'}\n",
    "url = 'https://www.reddit.com/r/Honda/.json'\n",
    "interations = 250\n",
    "sleep_sec = 1.5\n",
    "honda_df = pd.DataFrame(get_posts(url,interations,header,sleep_sec))\n",
    "honda_df = create_cols(honda_df)"
   ]
  },
  {
   "cell_type": "code",
   "execution_count": 11,
   "metadata": {},
   "outputs": [],
   "source": [
    "header = {'User-agent': 'Bleep blorp bot 0.1'}\n",
    "url = 'https://www.reddit.com/r/Toyota/.json'\n",
    "interations = 250\n",
    "sleep_sec = 1.5\n",
    "toyota_df = pd.DataFrame(get_posts(url,interations,header,sleep_sec))\n",
    "toyota_df = create_cols(toyota_df)"
   ]
  },
  {
   "cell_type": "markdown",
   "metadata": {},
   "source": [
    "## Saving Scraped Data"
   ]
  },
  {
   "cell_type": "code",
   "execution_count": 14,
   "metadata": {},
   "outputs": [],
   "source": [
    "toyota_df.to_csv('./data/toyotaDataFrame.csv', encoding='utf-8')\n",
    "honda_df.to_csv('./data/hondaDataFrame.csv', encoding='utf-8')"
   ]
  },
  {
   "cell_type": "markdown",
   "metadata": {},
   "source": [
    "# For future projects:"
   ]
  },
  {
   "cell_type": "code",
   "execution_count": null,
   "metadata": {},
   "outputs": [],
   "source": [
    "# header = {'User-agent': 'Bleep blorp bot 0.1'}\n",
    "# url = 'https://www.reddit.com/r/apple/.json'\n",
    "# interations = 500\n",
    "# sleep_sec = 1.5\n",
    "# apple_df = pd.DataFrame(get_posts(url,interations,header,sleep_sec))\n",
    "# apple_df = create_cols(apple_df)"
   ]
  },
  {
   "cell_type": "code",
   "execution_count": null,
   "metadata": {},
   "outputs": [],
   "source": [
    "# header = {'User-agent': 'Bleep blorp bot 0.1'}\n",
    "# url = 'https://www.reddit.com/r/Android/.json'\n",
    "# interations = 500\n",
    "# sleep_sec = 1.5\n",
    "# android_df = pd.DataFrame(get_posts(url,interations,header,sleep_sec))\n",
    "# android_df = create_cols(android_df)"
   ]
  },
  {
   "cell_type": "code",
   "execution_count": null,
   "metadata": {},
   "outputs": [],
   "source": [
    "# header = {'User-agent': 'Bleep blorp bot 0.1'}\n",
    "# url = 'https://www.reddit.com/r/bjj/.json'\n",
    "# interations = 100\n",
    "# sleep_sec = 1.5\n",
    "# bjj_df = pd.DataFrame(get_posts(url,interations,header,sleep_sec))\n",
    "# bjj_df = create_cols(bjj_df)"
   ]
  },
  {
   "cell_type": "code",
   "execution_count": null,
   "metadata": {},
   "outputs": [],
   "source": [
    "# header = {'User-agent': 'Bleep blorp bot 0.1'}\n",
    "# url = 'https://www.reddit.com/r/judo/.json'\n",
    "# interations = 100\n",
    "# sleep_sec = 1.5\n",
    "# judo_df = pd.DataFrame(get_posts(url,interations,header,sleep_sec))\n",
    "# judo_df = create_cols(judo_df)"
   ]
  },
  {
   "cell_type": "code",
   "execution_count": null,
   "metadata": {},
   "outputs": [],
   "source": [
    "# bjj_df.to_csv('./data/bjjDataFrame.csv', encoding='utf-8')\n",
    "# judo_df.to_csv('./data/judoDataFrame.csv', encoding='utf-8')\n",
    "\n",
    "# apple_df.to_csv('./data/appleDataFrame.csv', encoding='utf-8')\n",
    "# android_df.to_csv('./data/androidDataFrame.csv', encoding='utf-8')"
   ]
  }
 ],
 "metadata": {
  "kernelspec": {
   "display_name": "Python 3",
   "language": "python",
   "name": "python3"
  },
  "language_info": {
   "codemirror_mode": {
    "name": "ipython",
    "version": 3
   },
   "file_extension": ".py",
   "mimetype": "text/x-python",
   "name": "python",
   "nbconvert_exporter": "python",
   "pygments_lexer": "ipython3",
   "version": "3.7.0"
  }
 },
 "nbformat": 4,
 "nbformat_minor": 2
}
